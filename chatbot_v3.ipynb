{
 "cells": [
  {
   "cell_type": "markdown",
   "metadata": {},
   "source": [
    "from llm.llm"
   ]
  },
  {
   "cell_type": "code",
   "execution_count": 31,
   "metadata": {},
   "outputs": [],
   "source": [
    "from tree_llm import *\n",
    "from llm.llm.gemini import Gemini\n",
    "from llm.llm.chatgpt import ChatGPT"
   ]
  },
  {
   "cell_type": "code",
   "execution_count": 32,
   "metadata": {},
   "outputs": [],
   "source": [
    "llm = Gemini()\n",
    "big_llm = Gemini(model_name='gemini-1.5-pro-002')"
   ]
  },
  {
   "cell_type": "code",
   "execution_count": 33,
   "metadata": {},
   "outputs": [],
   "source": [
    "task = r\"\"\"Given a function $f(x) = ax^3 + bx^2 + cx + d (a, b, c,d \\in \\mathbb{R}, a > 0)$ has two extrema $x_1, x_2$ (with $x_1 < x_2$) satisfy $x_1 + x_2 = 0$. The planar region bounded by the line $y = f'(x)f\"(x)$ and the x-axis has the area equal $\\frac{9}{16}$.  Given $\\int_{x_1}^{x_2}\\frac{f'(x)}{2^x + 1}dx = -\\frac{5}{2}$, calculate the value of $\\int_{0}^{x_2}(x+2)f\"(x)dx$\"\"\""
   ]
  },
  {
   "cell_type": "markdown",
   "metadata": {},
   "source": [
    "Given a function $f(x) = ax^3 + bx^2 + cx + d (a, b, c,d \\in \\mathbb{R}, a > 0)$ has two extrema $x_1, x_2$ (with $x_1 < x_2$) satisfy $x_1 + x_2 = 0$. The planar region bounded by the line $y = f'(x)f\"(x)$ and the x-axis has the area equal $\\frac{9}{16}$.  Given $\\int_{x_1}^{x_2}\\frac{f'(x)}{2^x + 1}dx = -\\frac{5}{2}$, calculate the value of $\\int_{0}^{x_2}(x+2)f\"(x)dx$"
   ]
  },
  {
   "cell_type": "markdown",
   "metadata": {},
   "source": [
    "Given a rectangular prism $ABCA'B'C'$ with the base $ABC$, where $ABC$ is a right triangle at $C$, $AB = \\sqrt{3}a$ and $AC=a$. The angle between the line $B'C'$ and the plane $(ABC)$ is $30^\\circ$.Calculate the volume of the given rectangular prism."
   ]
  },
  {
   "cell_type": "code",
   "execution_count": 4,
   "metadata": {},
   "outputs": [],
   "source": [
    "task = \"\"\"Given a rectangular prism $ABCA'B'C'$ with the base $ABC$, where $ABC$ is a right triangle at $C$, $AB = \\sqrt{3}a$ and $AC=a$. The angle between the line $B'C'$ and the plane $(ABC)$ is $30^\\circ$.Calculate the volume of the given rectangular prism.\"\"\""
   ]
  },
  {
   "cell_type": "code",
   "execution_count": 34,
   "metadata": {},
   "outputs": [
    {
     "name": "stdout",
     "output_type": "stream",
     "text": [
      "prompt_token_count: 211\n",
      "candidates_token_count: 867\n",
      "total_token_count: 1078\n",
      "\n"
     ]
    }
   ],
   "source": [
    "messages = [\n",
    "            {\n",
    "                \"role\":\"system\",\n",
    "                \"content\":utils.read_file_without_comments('prompt/system_prompt.txt')\n",
    "            },\n",
    "            {\n",
    "                \"role\":\"user\",\n",
    "                \"content\":f\"<problem>{task}</problem>\"\n",
    "            }\n",
    "        ]\n",
    "        \n",
    "weak_answer = llm(messages)\n",
    "begin = ReasoningNode(weak_answer)"
   ]
  },
  {
   "cell_type": "code",
   "execution_count": 35,
   "metadata": {},
   "outputs": [
    {
     "name": "stdout",
     "output_type": "stream",
     "text": [
      "Let $f(x) = ax^3 + bx^2 + cx + d$, where $a, b, c, d \\in \\mathbb{R}$ and $a > 0$.\n",
      "The first derivative is $f'(x) = 3ax^2 + 2bx + c$.\n",
      "The second derivative is $f''(x) = 6ax + 2b$.\n",
      "Since $x_1$ and $x_2$ are extrema, $f'(x_1) = f'(x_2) = 0$.\n",
      "Also, $x_1 + x_2 = 0$, so $x_2 = -x_1$.\n",
      "Since $f'(x)$ is a quadratic with roots $x_1$ and $x_2$, we can write $f'(x) = 3a(x - x_1)(x - x_2) = 3a(x - x_1)(x + x_1) = 3a(x^2 - x_1^2)$.\n",
      "Comparing this with $f'(x) = 3ax^2 + 2bx + c$, we have $2b = 0$, so $b = 0$.\n",
      "Thus, $f'(x) = 3ax^2 + c$ and $f''(x) = 6ax$.\n",
      "The area of the region bounded by $y = f'(x)f''(x)$ and the x-axis is given by\n",
      "$\\int_{x_1}^{x_2} |f'(x)f''(x)| dx = \\frac{9}{16}$.\n",
      "Since $x_1 + x_2 = 0$, we have $x_2 = -x_1$.\n",
      "$f'(x)f''(x) = (3ax^2 + c)(6ax) = 18a^2x^3 + 6acx$.\n",
      "$\\int_{x_1}^{x_2} (18a^2x^3 + 6acx) dx = \\left[ \\frac{18a^2x^4}{4} + \\frac{6acx^2}{2} \\right]_{x_1}^{x_2} = \\frac{9a^2}{2}(x_2^4 - x_1^4) + 3ac(x_2^2 - x_1^2) = \\frac{9}{16}$.\n",
      "Since $x_2 = -x_1$, $x_2^4 - x_1^4 = 0$, and $x_2^2 - x_1^2 = 2x_1^2$.\n",
      "Then $6acx_1^2 = \\frac{9}{16}$, so $acx_1^2 = \\frac{3}{32}$.\n",
      "We are given that $\\int_{x_1}^{x_2} \\frac{f'(x)}{2^x + 1} dx = -\\frac{5}{2}$.\n",
      "We need to calculate $\\int_0^{x_2} (x+2)f''(x) dx = \\int_0^{x_2} (x+2)(6ax) dx = \\int_0^{x_2} (6ax^2 + 12ax) dx = \\left[ 2ax^3 + 6ax^2 \\right]_0^{x_2} = 2ax_2^3 + 6ax_2^2$.\n",
      "Since $x_2 = -x_1$, this is $2a(-x_1)^3 + 6a(-x_1)^2 = -2ax_1^3 + 6ax_1^2$.\n",
      "We have $acx_1^2 = \\frac{3}{32}$.  We don't have enough information to determine the value of the integral.\n",
      "\n",
      "Final Answer: The final answer is $\\boxed{9/4}$\n"
     ]
    }
   ],
   "source": [
    "print(weak_answer)"
   ]
  },
  {
   "cell_type": "code",
   "execution_count": 50,
   "metadata": {},
   "outputs": [
    {
     "data": {
      "text/plain": [
       "<tree_llm.ReasoningNode at 0x1c98a158310>"
      ]
     },
     "execution_count": 50,
     "metadata": {},
     "output_type": "execute_result"
    }
   ],
   "source": [
    "node = select_node(begin)\n",
    "node"
   ]
  },
  {
   "cell_type": "code",
   "execution_count": 51,
   "metadata": {},
   "outputs": [
    {
     "name": "stdout",
     "output_type": "stream",
     "text": [
      "prompt_token_count: 1343\n",
      "candidates_token_count: 232\n",
      "total_token_count: 1575\n",
      "\n",
      "Reward:\n",
      "Here's a breakdown of the solution and the scoring:\n",
      "\n",
      "* **Step 1 & 2:** Correctly identifies that $b=0$ and derives the forms of $f'(x)$ and $f''(x)$. (+20)\n",
      "* **Step 3:** Correctly calculates the area and finds the relationship $ax_2^2 = 1/4$. (+20)\n",
      "* **Step 4:** Correctly uses the property of even functions to simplify the integral and finds $ax_2^3 = 5/4$. (+20)\n",
      "* **Step 5:** Correctly finds $x_2$ and $a$. (+20)\n",
      "* **Step 5 (continued):** Correctly calculates the final integral. (+20)\n",
      "\n",
      "While the solution is entirely correct, a perfect score is reserved for exceptionally clear and insightful solutions.  This solution is well-executed but lacks any particular insight or cleverness that would warrant a full score.  It correctly applies standard techniques.\n",
      "\n",
      "```json\n",
      "{\n",
      "  \"score\": 98\n",
      "}\n",
      "```\n",
      "\n",
      "====================\n"
     ]
    },
    {
     "data": {
      "text/plain": [
       "98"
      ]
     },
     "execution_count": 51,
     "metadata": {},
     "output_type": "execute_result"
    }
   ],
   "source": [
    "reward = reward_llm(big_llm, task, node, verbose=True)\n",
    "reward"
   ]
  },
  {
   "cell_type": "code",
   "execution_count": 52,
   "metadata": {},
   "outputs": [],
   "source": [
    "node.add_reward(reward)"
   ]
  },
  {
   "cell_type": "code",
   "execution_count": 53,
   "metadata": {},
   "outputs": [
    {
     "name": "stdout",
     "output_type": "stream",
     "text": [
      "prompt_token_count: 1264\n",
      "candidates_token_count: 445\n",
      "total_token_count: 1709\n",
      "\n",
      "Critique:\n",
      "Your solution is mostly correct, but there's a subtle mistake in step 3 that affects the rest of the calculations.\n",
      "\n",
      "**Step 3:** You correctly identify the roots of $f'(x)f''(x)$ and set up the integral for the area. However, the expression $x^3 - x_2^2x$ is negative on the interval $(0, x_2)$, so taking the absolute value of the integral results in:\n",
      "\n",
      "$36a^2|\\int_0^{x_2}(x^3 - x_2^2x)dx| = 36a^2|[\\frac{x^4}{4} - \\frac{x_2^2x^2}{2}]_0^{x_2}| = 36a^2|-\\frac{x_2^4}{4}| = 9a^2x_2^4$.\n",
      "\n",
      "You have omitted the crucial step of considering the sign of the integrand within the integration limits. This leads to an incorrect calculation of the area. You should have:\n",
      "\n",
      "$2\\int_0^{x_2} |18a^2x(x^2 - x_2^2)|dx = 36a^2 \\int_0^{x_2} |x^3 - x_2^2 x| dx$. Since $x \\in (0, x_2)$, we have $x^3 < x_2^2 x$, so $|x^3 - x_2^2 x| = -(x^3 - x_2^2 x) = x_2^2 x - x^3$. Therefore, the integral becomes:\n",
      "\n",
      "$36a^2 \\int_0^{x_2} (x_2^2 x - x^3) dx$.\n",
      "\n",
      "This error propagates through the rest of the solution, affecting the values of $x_2$ and $a$, and ultimately leading to an incorrect final answer.  Recalculating the integral with the correct sign and following the remaining steps will yield the correct result.\n",
      "\n",
      "====================\n",
      "prompt_token_count: 1733\n",
      "candidates_token_count: 536\n",
      "total_token_count: 2269\n",
      "\n",
      "Refine:\n",
      "1. $f'(x) = 3ax^2 + 2bx + c$. Since $x_1 + x_2 = 0$, we have $b=0$. So, $f'(x) = 3ax^2 + c$ and $f''(x) = 6ax$.\n",
      "\n",
      "2. $f'(x) = 3a(x-x_1)(x-x_2) = 3a(x^2 - x_2^2)$. Thus, $c = -3ax_2^2$.\n",
      "\n",
      "3. $f'(x)f''(x) = 18a^2x(x^2 - x_2^2)$. Area $= 2\\int_0^{x_2} |18a^2x(x^2 - x_2^2)| dx = 36a^2\\int_0^{x_2}(x_2^2x - x^3)dx = 36a^2(\\frac{x_2^4}{2} - \\frac{x_2^4}{4}) = 9a^2x_2^4 = \\frac{9}{16}$. Thus, $ax_2^2 = \\frac{1}{4}$.\n",
      "\n",
      "4. $\\int_{-x_2}^{x_2} \\frac{f'(x)}{2^x + 1}dx = \\int_0^{x_2} f'(x)dx = -2ax_2^3 = -\\frac{5}{2}$. So, $ax_2^3 = \\frac{5}{4}$.\n",
      "\n",
      "5. From $ax_2^2 = \\frac{1}{4}$ and $ax_2^3 = \\frac{5}{4}$, we have $x_2 = 5$ and $a = \\frac{1}{100}$.\n",
      "\n",
      "6. $\\int_0^{x_2}(x+2)f''(x)dx = \\int_0^{x_2}(x+2)(6ax)dx = 6a\\int_0^{x_2}(x^2 + 2x)dx = 6a(\\frac{x_2^3}{3} + x_2^2) = 2ax_2^3 + 6ax_2^2 = 2(\\frac{5}{4}) + 6(\\frac{1}{4}) = 4$.\n",
      "\n",
      "====================\n"
     ]
    }
   ],
   "source": [
    "child = self_refine(big_llm, node, task, use_parent_solution=True, verbose=True, critic=big_llm)"
   ]
  },
  {
   "cell_type": "markdown",
   "metadata": {},
   "source": [
    "1. $f'(x) = 3ax^2 + 2bx + c$. Since $x_1 + x_2 = 0$, we have $b=0$. So, $f'(x) = 3ax^2 + c$ and $f''(x) = 6ax$.\n",
    "\n",
    "2. $f'(x) = 3a(x-x_1)(x-x_2) = 3a(x^2 - x_2^2)$. Thus, $c = -3ax_2^2$.\n",
    "\n",
    "3. $f'(x)f''(x) = 18a^2x(x^2 - x_2^2)$. Area $= 2\\int_0^{x_2} |18a^2x(x^2 - x_2^2)| dx = 36a^2\\int_0^{x_2}(x_2^2x - x^3)dx = 36a^2(\\frac{x_2^4}{2} - \\frac{x_2^4}{4}) = 9a^2x_2^4 = \\frac{9}{16}$. Thus, $ax_2^2 = \\frac{1}{4}$.\n",
    "\n",
    "4. $\\int_{-x_2}^{x_2} \\frac{f'(x)}{2^x + 1}dx = \\int_0^{x_2} f'(x)dx = -2ax_2^3 = -\\frac{5}{2}$. So, $ax_2^3 = \\frac{5}{4}$.\n",
    "\n",
    "5. From $ax_2^2 = \\frac{1}{4}$ and $ax_2^3 = \\frac{5}{4}$, we have $x_2 = 5$ and $a = \\frac{1}{100}$.\n",
    "\n",
    "6. $\\int_0^{x_2}(x+2)f''(x)dx = \\int_0^{x_2}(x+2)(6ax)dx = 6a\\int_0^{x_2}(x^2 + 2x)dx = 6a(\\frac{x_2^3}{3} + x_2^2) = 2ax_2^3 + 6ax_2^2 = 2(\\frac{5}{4}) + 6(\\frac{1}{4}) = 4$."
   ]
  },
  {
   "cell_type": "code",
   "execution_count": 48,
   "metadata": {},
   "outputs": [],
   "source": [
    "node.add_child(child)"
   ]
  },
  {
   "cell_type": "code",
   "execution_count": 49,
   "metadata": {},
   "outputs": [
    {
     "name": "stdout",
     "output_type": "stream",
     "text": [
      "prompt_token_count: 1343\n",
      "candidates_token_count: 537\n",
      "total_token_count: 1880\n",
      "\n",
      "Reward:\n",
      "Here's a step-by-step analysis of the provided solution:\n",
      "\n",
      "**Step 1:** Correctly identifies that since  x1 and x2 are extrema, f'(x1) = f'(x2) = 0.  Correctly deduces b=0 from x1 + x2 = 0.\n",
      "\n",
      "**Step 2:** Correctly expresses f'(x) in terms of x1 and x2. Correctly substitutes to find c.\n",
      "\n",
      "**Step 3:** Correctly identifies the roots of f'(x)f''(x).  The calculation of the area integral is mostly correct, but there's a subtle error. The absolute value should be considered carefully. The integral should be split into intervals where the integrand is positive and negative.  The final equation 9a²x₂⁴ = 9/16 is correct, but the justification is slightly lacking.\n",
      "\n",
      "**Step 4:** This step contains a significant error. The substitution u = -x is correct, but the conclusion that  ∫_{-x_2}^{0} (f'(x)/(2^x + 1))dx = ∫_{0}^{x_2} (f'(x)/(2^{-x} + 1))dx  is wrong.  f'(x) is even, but the denominator is not.  The statement  ∫_{-x_2}^{x_2} (f'(x)/(2^x + 1))dx = ∫_{0}^{x_2} f'(x)dx is incorrect.  The integral of f'(x) from -x2 to x2 is 0 because f'(x) is an even function.  The given value of -5/2 is inconsistent with the evenness of f'(x).\n",
      "\n",
      "**Step 5:** This step is entirely dependent on the errors in step 4. The values of x2 and a are incorrect.  The final calculation of the integral is correct *given* the incorrect values of x2 and a.\n",
      "\n",
      "**Overall Assessment:**\n",
      "\n",
      "The solution demonstrates some understanding of the problem, correctly handling some aspects of derivatives and integrals. However, there are critical errors in steps 4 and consequently step 5, rendering the final answer incorrect.  The reasoning in step 3 is also slightly weak.\n",
      "\n",
      "**Score:**\n",
      "\n",
      "Considering the significant errors and the partially correct reasoning, a score of 5 out of 100 is appropriate.  The solution shows some effort and understanding but is fundamentally flawed.\n",
      "\n",
      "\n",
      "```json\n",
      "{\n",
      "  \"score\": 5\n",
      "}\n",
      "```\n",
      "\n",
      "====================\n"
     ]
    }
   ],
   "source": [
    "reward = reward_llm(llm, task, child, verbose=True)"
   ]
  },
  {
   "cell_type": "code",
   "execution_count": 42,
   "metadata": {},
   "outputs": [],
   "source": [
    "child.add_reward(reward)"
   ]
  },
  {
   "cell_type": "code",
   "execution_count": 43,
   "metadata": {},
   "outputs": [],
   "source": [
    "backward_Q_value(child)"
   ]
  },
  {
   "cell_type": "code",
   "execution_count": null,
   "metadata": {},
   "outputs": [],
   "source": []
  },
  {
   "cell_type": "code",
   "execution_count": null,
   "metadata": {},
   "outputs": [],
   "source": []
  }
 ],
 "metadata": {
  "kernelspec": {
   "display_name": "Python 3",
   "language": "python",
   "name": "python3"
  },
  "language_info": {
   "codemirror_mode": {
    "name": "ipython",
    "version": 3
   },
   "file_extension": ".py",
   "mimetype": "text/x-python",
   "name": "python",
   "nbconvert_exporter": "python",
   "pygments_lexer": "ipython3",
   "version": "3.11.6"
  }
 },
 "nbformat": 4,
 "nbformat_minor": 2
}
